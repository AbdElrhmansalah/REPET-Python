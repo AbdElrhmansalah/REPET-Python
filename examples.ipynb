{
 "cells": [
  {
   "cell_type": "markdown",
   "metadata": {},
   "source": [
    "# Examples"
   ]
  },
  {
   "cell_type": "markdown",
   "metadata": {},
   "source": [
    "This Jupyter notebook shows some examples for the different functions of the Python module `repet`.\n",
    "\n",
    "Functions:\n",
    "- [`original`](#original) - Compute the original REPET.\n",
    "- [`extended`](#extended) - Compute REPET extended.\n",
    "- [`adaptive`](#adaptive) - Compute the adaptive REPET.\n",
    "- [`sim`](#sim) - Compute REPET-SIM.\n",
    "- [`simonline`](#simonline) - Compute the online REPET-SIM.\n",
    "\n",
    "Other:\n",
    "- `wavread` - Read a WAVE file (using SciPy).\n",
    "- `wavwrite` - Write a WAVE file (using SciPy).\n",
    "- `sigplot` - Plot a signal in seconds.\n",
    "- `specshow` - Display a spectrogram in dB, seconds, and Hz.\n",
    "\n",
    "\n",
    "Author:\n",
    "- Zafar Rafii\n",
    "- zafarrafii@gmail.com\n",
    "- http://zafarrafii.com\n",
    "- https://github.com/zafarrafii\n",
    "- https://www.linkedin.com/in/zafarrafii/\n",
    "- 12/15/20"
   ]
  },
  {
   "cell_type": "markdown",
   "metadata": {},
   "source": [
    "## <a id=\"original\"></a>original"
   ]
  },
  {
   "cell_type": "markdown",
   "metadata": {},
   "source": []
  },
  {
   "cell_type": "markdown",
   "metadata": {},
   "source": []
  },
  {
   "cell_type": "markdown",
   "metadata": {},
   "source": []
  },
  {
   "cell_type": "markdown",
   "metadata": {},
   "source": []
  }
 ],
 "metadata": {
  "kernelspec": {
   "display_name": "Python 3",
   "language": "python",
   "name": "python3"
  },
  "language_info": {
   "codemirror_mode": {
    "name": "ipython",
    "version": 3
   },
   "file_extension": ".py",
   "mimetype": "text/x-python",
   "name": "python",
   "nbconvert_exporter": "python",
   "pygments_lexer": "ipython3",
   "version": "3.7.3"
  }
 },
 "nbformat": 4,
 "nbformat_minor": 4
}
